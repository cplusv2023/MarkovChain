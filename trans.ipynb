{
 "cells": [
  {
   "metadata": {},
   "cell_type": "markdown",
   "source": [
    "# Markov Chain\n",
    "*过去所有的信息都被保存在了现在的状态下*\n",
    "$$\n",
    "P(X_{t+1} \\vert \\ldots X_{1},X_{t-1},X_{t})=P(X_{t+1} \\vert X_{t})\n",
    "$$"
   ],
   "id": "ea6ba93e126bae7d"
  },
  {
   "metadata": {},
   "cell_type": "markdown",
   "source": [
    "## 转移概率矩阵\n",
    "事件状态可以转换为**概率矩阵**（**状态分布矩阵**）\n",
    "\n",
    "例如，若存在A,B两个状态，其中A状态转为A，B两个状态的概率分别为0.3,0.7；B转为A，B两个状态的概率分别为0.1,0.9.\n",
    "**转移概率矩阵** \n",
    "$$\n",
    "P=\\left(\n",
    "\\begin{array}{ccc}\n",
    "  & A   &   B \\\\\n",
    "A & 0.3 & 0.7 \\\\\n",
    "B & 0.9 & 0.1 \n",
    "\\end{array}\n",
    "\\right)\n",
    "$$\n",
    "\n",
    "两次运动后\n",
    "$$\n",
    "\\begin{align}\n",
    "PP=&\\left(\n",
    "\\begin{array}{ccc}\n",
    "  & A   &   B \\\\\n",
    "A & 0.3 & 0.7 \\\\\n",
    "B & 0.9 & 0.1 \n",
    "\\end{array}\n",
    "\\right)\n",
    "\n",
    "\\left(\n",
    "\\begin{array}{ccc}\n",
    "  & A   &   B \\\\\n",
    "A & 0.3 & 0.7 \\\\\n",
    "B & 0.9 & 0.1 \n",
    "\\end{array}\n",
    "\\right)\n",
    "\n",
    "\\\\ =&\\left(\n",
    "\\begin{array}{ccc}\n",
    "  & A   &   B \\\\\n",
    "A & 0.3*0.3+0.7*0.9 & 0.3*0.7+0.7*0.1 \\\\\n",
    "B & 0.9*0.3+0.1*0.9 & 0.9*0.7+0.1*0.1\n",
    "\\end{array}\n",
    "\\right)\n",
    "\\\\\n",
    "=&\\left(\n",
    "\\begin{array}{ccc}\n",
    "  & A    &   B  \\\\\n",
    "A & 0.72 & 0.28 \\\\\n",
    "B & 0.36 & 0.64\n",
    "\\end{array}\n",
    "\\right)\n",
    "\\end{align}\n",
    "$$"
   ],
   "id": "654fdd0f4c3789f5"
  },
  {
   "metadata": {},
   "cell_type": "markdown",
   "source": [
    "## 转移状态矩阵具有稳定性\n",
    "状态转移矩阵有一个非常重要的特性，经过一定有限次数序列的转换，最终一定可以得到一个稳定的概率分布 ，且**与初始状态概率分布无关**。"
   ],
   "id": "410eb498c400bcdd"
  },
  {
   "metadata": {
    "ExecuteTime": {
     "end_time": "2024-04-08T12:19:31.483364Z",
     "start_time": "2024-04-08T12:19:31.478854Z"
    }
   },
   "cell_type": "code",
   "source": [
    "import numpy as np\n",
    "import matplotlib.pyplot as plt\n",
    "\n",
    "# initial matrix\n",
    "matrix_trans = np.matrix([[0.3,0.7],\n",
    "                          [0.9,0.1]],dtype=np.float32)\n",
    "# boundary condition\n",
    "matrix_epoch = np.matrix([[0.55,0.45],\n",
    "                          [0.75,0.25]],dtype=np.float32)\n",
    "\n",
    "# 30 iterations\n",
    "niter = 30\n",
    "a2a = np.zeros(niter)\n",
    "a2b = np.zeros(niter)\n",
    "b2a = np.zeros(niter)\n",
    "b2b = np.zeros(niter)\n",
    "\n",
    "\n",
    "for i in range(niter):\n",
    "    matrix_epoch = matrix_epoch * matrix_trans\n",
    "    a2a[i] = matrix_epoch[0,0]\n",
    "    a2b[i] = matrix_epoch[0,1]\n",
    "    b2a[i] = matrix_epoch[1,0]\n",
    "    b2b[i] = matrix_epoch[1,1]\n",
    "    if i < 5 or i >= niter-3:\n",
    "        print(\"Current Epoch:\",i+1)\n",
    "        print(matrix_epoch)\n"
   ],
   "id": "efa15ce71fbb4225",
   "outputs": [
    {
     "name": "stdout",
     "output_type": "stream",
     "text": [
      "Current Epoch: 1\n",
      "[[0.57       0.42999998]\n",
      " [0.45       0.54999995]]\n",
      "Current Epoch: 2\n",
      "[[0.55799997 0.442     ]\n",
      " [0.62999994 0.37      ]]\n",
      "Current Epoch: 3\n",
      "[[0.5652     0.43479997]\n",
      " [0.522      0.47799996]]\n",
      "Current Epoch: 4\n",
      "[[0.56087995 0.43912   ]\n",
      " [0.5868     0.41320002]]\n",
      "Current Epoch: 5\n",
      "[[0.563472   0.43652794]\n",
      " [0.54792    0.45207998]]\n",
      "Current Epoch: 28\n",
      "[[0.5624998 0.4374999]\n",
      " [0.5625    0.4374998]]\n",
      "Current Epoch: 29\n",
      "[[0.5624999  0.43749985]\n",
      " [0.5624998  0.43749997]]\n",
      "Current Epoch: 30\n",
      "[[0.5624998  0.4374999 ]\n",
      " [0.56249994 0.43749985]]\n"
     ]
    }
   ],
   "execution_count": 39
  },
  {
   "metadata": {
    "ExecuteTime": {
     "end_time": "2024-04-08T13:00:01.471780Z",
     "start_time": "2024-04-08T13:00:01.343391Z"
    }
   },
   "cell_type": "code",
   "source": [
    "        \n",
    "fig = plt.figure(facecolor=\"white\")\n",
    "plt.title(\"Probability by epoch\")\n",
    "plt.axis('off')\n",
    "\n",
    "ax1 = fig.add_subplot(121)\n",
    "ax2 = fig.add_subplot(122)\n",
    "xline = np.linspace(0,niter,niter)\n",
    "# curve A -> A\n",
    "ax1.plot(xline, a2a[:],label=\"A to A\")\n",
    "# curve A -> B\n",
    "ax1.plot(xline, a2b[:],label=\"A to B\")\n",
    "# curve B -> A\n",
    "ax2.plot(xline, b2a[:],label=\"B to A\")\n",
    "# curve B -> B\n",
    "ax2.plot(xline, b2b[:],label=\"B to B\")\n",
    "ax1.legend(loc=\"best\")\n",
    "ax2.legend(loc=\"best\")\n",
    "ax1.set_xlabel(\"Epoch\")\n",
    "ax2.set_xlabel(\"Epoch\")\n",
    "ax1.set_ylabel(\"Probability\")\n",
    "ax2.set_yticks([])\n",
    "ax1.set_ylim([0,1])\n",
    "ax2.set_ylim([0,1])\n",
    "plt.tight_layout()\n",
    "plt.show()"
   ],
   "id": "dcb320f2bda1db93",
   "outputs": [
    {
     "data": {
      "text/plain": [
       "<Figure size 640x480 with 3 Axes>"
      ],
      "image/png": "[encoded data removed]"
     },
     "metadata": {},
     "output_type": "display_data"
    }
   ],
   "execution_count": 50
  },
  {
   "metadata": {
    "ExecuteTime": {
     "end_time": "2024-04-08T12:19:31.616395Z",
     "start_time": "2024-04-08T12:19:31.614796Z"
    }
   },
   "cell_type": "code",
   "source": "",
   "id": "309bd32746f447e",
   "outputs": [],
   "execution_count": 40
  }
 ],
 "metadata": {
  "kernelspec": {
   "display_name": "Python 3",
   "language": "python",
   "name": "python3"
  },
  "language_info": {
   "codemirror_mode": {
    "name": "ipython",
    "version": 2
   },
   "file_extension": ".py",
   "mimetype": "text/x-python",
   "name": "python",
   "nbconvert_exporter": "python",
   "pygments_lexer": "ipython2",
   "version": "2.7.6"
  }
 },
 "nbformat": 4,
 "nbformat_minor": 5
}
